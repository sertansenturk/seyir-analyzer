{
 "cells": [
  {
   "cell_type": "code",
   "execution_count": 1,
   "metadata": {
    "collapsed": false
   },
   "outputs": [],
   "source": [
    "%matplotlib inline\n",
    "import pylab \n",
    "\n",
    "from predominantmelodymakam.PredominantMelodyMakam import PredominantMelodyMakam\n",
    "\n",
    "import os \n",
    "import json\n",
    "import scipy.io\n",
    "import numpy\n"
   ]
  },
  {
   "cell_type": "code",
   "execution_count": null,
   "metadata": {
    "collapsed": false
   },
   "outputs": [],
   "source": [
    "extractor = PredominantMelodyMakam()\n",
    "\n",
    "audiofolder = '../huzzam--sazsemaisi--aksaksemai----udi_nevres_bey/d2731692-626d-4a6d-9b67-a70c9e7b9745'\n",
    "\n",
    "# we use an audio recording converted from the Robert Garfias's videos, mbid:d2731692-626d-4a6d-9b67-a70c9e7b9745\n",
    "# this is a short excerpt starting from the 501st second\n",
    "audiofile = os.path.join(audiofolder, 'd2731692-626d-4a6d-9b67-a70c9e7b9745.mp3') \n",
    "\n",
    "jsonfile = os.path.join(audiofolder, 'predominantMelody.json') # json file\n",
    "matfile = os.path.join(audiofolder, 'predominantMelody.mat') # matlab file\n",
    "txtfile = os.path.join(audiofolder, 'predominantMelody.txt') # text file; for sonic visualizer\n"
   ]
  },
  {
   "cell_type": "code",
   "execution_count": null,
   "metadata": {
    "collapsed": false
   },
   "outputs": [],
   "source": [
    "print os.path.basename(audiofile)\n",
    "\n",
    "results = extractor.run(audiofile)\n",
    "\n",
    "# json file\n",
    "json.dump(results, open(jsonfile, 'w'))\n",
    "\n",
    "# matlab file\n",
    "scipy.io.savemat(matfile, results)\n"
   ]
  },
  {
   "cell_type": "code",
   "execution_count": null,
   "metadata": {
    "collapsed": false
   },
   "outputs": [],
   "source": [
    "# plot \n",
    "tt = [p[0]+501.0 for p in results['pitch']]\n",
    "pp = [p[1] for p in results['pitch']]\n",
    "\n",
    "pylab.plot(tt, pp)\n",
    "pylab.xlabel(\"time (seconds)\")\n",
    "pylab.ylabel(\"Frequency (Hz)\")\n",
    "pylab.title('Recording excerpt')\n",
    "pylab.show()"
   ]
  }
 ],
 "metadata": {
  "kernelspec": {
   "display_name": "Python 2",
   "language": "python",
   "name": "python2"
  },
  "language_info": {
   "codemirror_mode": {
    "name": "ipython",
    "version": 2
   },
   "file_extension": ".py",
   "mimetype": "text/x-python",
   "name": "python",
   "nbconvert_exporter": "python",
   "pygments_lexer": "ipython2",
   "version": "2.7.10"
  }
 },
 "nbformat": 4,
 "nbformat_minor": 0
}
