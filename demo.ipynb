{
 "cells": [
  {
   "cell_type": "code",
   "execution_count": null,
   "metadata": {
    "collapsed": false
   },
   "outputs": [],
   "source": [
    "%matplotlib inline\n",
    "import pylab \n",
    "pylab.rcParams['figure.figsize'] = (31.25, 2.6)\n",
    "\n",
    "import os\n",
    "import json\n",
    "from seyiranalyzer.AudioSeyirAnalyzer import AudioSeyirAnalyzer"
   ]
  },
  {
   "cell_type": "code",
   "execution_count": null,
   "metadata": {
    "collapsed": false
   },
   "outputs": [],
   "source": [
    "scorefolder = 'muhayyer--pesrev--devrikebir----tanburi_cemil_bey/'\n",
    "audiofolder = os.path.join(scorefolder, '132_Muhayyer_Pesrev__Mansur_Ney_')\n",
    "\n",
    "audiofile = os.path.join(audiofolder, '132_Muhayyer_Pesrev__Mansur_Ney_.mp3')\n",
    "pitchfile = os.path.join(audiofolder, 'predominantMelody.json')\n"
   ]
  },
  {
   "cell_type": "code",
   "execution_count": null,
   "metadata": {
    "collapsed": false
   },
   "outputs": [],
   "source": [
    "audioSeyirAnalyzer = AudioSeyirAnalyzer()\n",
    "pitch = json.load(open(pitchfile, 'r'))['pitch']\n",
    "\n",
    "# compute number of frames from some simple rules set by the user\n",
    "duration = pitch[-1][0]\n",
    "min_num_frames = 40\n",
    "max_frame_dur = 30\n",
    "frame_size = duration/min_num_frames if duration/min_num_frames<=max_frame_dur else max_frame_dur\n",
    "frame_size = int(5 * round(float(frame_size)/5))  # round to 5 seconds\n",
    "\n",
    "seyir_features = audioSeyirAnalyzer.analyze(pitch, frame_size = frame_size, hop_ratio = 0.5)\n"
   ]
  },
  {
   "cell_type": "code",
   "execution_count": null,
   "metadata": {
    "collapsed": false
   },
   "outputs": [],
   "source": [
    "audioSeyirAnalyzer.plot(seyir_features)\n"
   ]
  }
 ],
 "metadata": {
  "kernelspec": {
   "display_name": "Python 2",
   "language": "python",
   "name": "python2"
  },
  "language_info": {
   "codemirror_mode": {
    "name": "ipython",
    "version": 2
   },
   "file_extension": ".py",
   "mimetype": "text/x-python",
   "name": "python",
   "nbconvert_exporter": "python",
   "pygments_lexer": "ipython2",
   "version": "2.7.10"
  }
 },
 "nbformat": 4,
 "nbformat_minor": 0
}
